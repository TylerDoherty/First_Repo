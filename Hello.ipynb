{
 "cells": [
  {
   "cell_type": "markdown",
   "id": "2cec4c21",
   "metadata": {},
   "source": [
    "#Test Notebook\n",
    "## James Tyler Doherty\n",
    "### Freshman\n",
    "*Welcome to Programming"
   ]
  },
  {
   "cell_type": "code",
   "execution_count": null,
   "id": "161c337d",
   "metadata": {},
   "outputs": [],
   "source": [
    "print(\"Hello World\")"
   ]
  },
  {
   "cell_type": "code",
   "execution_count": null,
   "id": "885a9296",
   "metadata": {},
   "outputs": [],
   "source": [
    "a=6.7\n",
    "b=5\n",
    "results"
   ]
  }
 ],
 "metadata": {
  "kernelspec": {
   "display_name": "Python 3 (ipykernel)",
   "language": "python",
   "name": "python3"
  },
  "language_info": {
   "codemirror_mode": {
    "name": "ipython",
    "version": 3
   },
   "file_extension": ".py",
   "mimetype": "text/x-python",
   "name": "python",
   "nbconvert_exporter": "python",
   "pygments_lexer": "ipython3",
   "version": "3.11.4"
  }
 },
 "nbformat": 4,
 "nbformat_minor": 5
}
